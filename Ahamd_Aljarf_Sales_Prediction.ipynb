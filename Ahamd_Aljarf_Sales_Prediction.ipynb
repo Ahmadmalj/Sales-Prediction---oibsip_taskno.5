{
  "cells": [
    {
      "cell_type": "markdown",
      "metadata": {
        "id": "PKRIXWiZXc_N"
      },
      "source": [
        "\n",
        "Name: Ahmad Aljarf\n",
        "\n",
        "Oasis Infobyte\n",
        "\n",
        "Batch: February 2023\n",
        "\n",
        "Task 5: SALES PREDICTION USING PYTHON\n",
        "\n"
      ]
    },
    {
      "cell_type": "markdown",
      "metadata": {
        "id": "tdqdBxbkOGna"
      },
      "source": [
        "Uploading the dataset:"
      ]
    },
    {
      "cell_type": "code",
      "execution_count": 1,
      "metadata": {
        "colab": {
          "base_uri": "https://localhost:8080/",
          "height": 73
        },
        "id": "4WAU-BHjXS3o",
        "outputId": "4bcb70b0-3a85-4b07-b4da-37389e44923d"
      },
      "outputs": [
        {
          "data": {
            "text/html": [
              "\n",
              "     <input type=\"file\" id=\"files-6b60dee8-1a64-4354-bdfb-e62ad5da36c1\" name=\"files[]\" multiple disabled\n",
              "        style=\"border:none\" />\n",
              "     <output id=\"result-6b60dee8-1a64-4354-bdfb-e62ad5da36c1\">\n",
              "      Upload widget is only available when the cell has been executed in the\n",
              "      current browser session. Please rerun this cell to enable.\n",
              "      </output>\n",
              "      <script>// Copyright 2017 Google LLC\n",
              "//\n",
              "// Licensed under the Apache License, Version 2.0 (the \"License\");\n",
              "// you may not use this file except in compliance with the License.\n",
              "// You may obtain a copy of the License at\n",
              "//\n",
              "//      http://www.apache.org/licenses/LICENSE-2.0\n",
              "//\n",
              "// Unless required by applicable law or agreed to in writing, software\n",
              "// distributed under the License is distributed on an \"AS IS\" BASIS,\n",
              "// WITHOUT WARRANTIES OR CONDITIONS OF ANY KIND, either express or implied.\n",
              "// See the License for the specific language governing permissions and\n",
              "// limitations under the License.\n",
              "\n",
              "/**\n",
              " * @fileoverview Helpers for google.colab Python module.\n",
              " */\n",
              "(function(scope) {\n",
              "function span(text, styleAttributes = {}) {\n",
              "  const element = document.createElement('span');\n",
              "  element.textContent = text;\n",
              "  for (const key of Object.keys(styleAttributes)) {\n",
              "    element.style[key] = styleAttributes[key];\n",
              "  }\n",
              "  return element;\n",
              "}\n",
              "\n",
              "// Max number of bytes which will be uploaded at a time.\n",
              "const MAX_PAYLOAD_SIZE = 100 * 1024;\n",
              "\n",
              "function _uploadFiles(inputId, outputId) {\n",
              "  const steps = uploadFilesStep(inputId, outputId);\n",
              "  const outputElement = document.getElementById(outputId);\n",
              "  // Cache steps on the outputElement to make it available for the next call\n",
              "  // to uploadFilesContinue from Python.\n",
              "  outputElement.steps = steps;\n",
              "\n",
              "  return _uploadFilesContinue(outputId);\n",
              "}\n",
              "\n",
              "// This is roughly an async generator (not supported in the browser yet),\n",
              "// where there are multiple asynchronous steps and the Python side is going\n",
              "// to poll for completion of each step.\n",
              "// This uses a Promise to block the python side on completion of each step,\n",
              "// then passes the result of the previous step as the input to the next step.\n",
              "function _uploadFilesContinue(outputId) {\n",
              "  const outputElement = document.getElementById(outputId);\n",
              "  const steps = outputElement.steps;\n",
              "\n",
              "  const next = steps.next(outputElement.lastPromiseValue);\n",
              "  return Promise.resolve(next.value.promise).then((value) => {\n",
              "    // Cache the last promise value to make it available to the next\n",
              "    // step of the generator.\n",
              "    outputElement.lastPromiseValue = value;\n",
              "    return next.value.response;\n",
              "  });\n",
              "}\n",
              "\n",
              "/**\n",
              " * Generator function which is called between each async step of the upload\n",
              " * process.\n",
              " * @param {string} inputId Element ID of the input file picker element.\n",
              " * @param {string} outputId Element ID of the output display.\n",
              " * @return {!Iterable<!Object>} Iterable of next steps.\n",
              " */\n",
              "function* uploadFilesStep(inputId, outputId) {\n",
              "  const inputElement = document.getElementById(inputId);\n",
              "  inputElement.disabled = false;\n",
              "\n",
              "  const outputElement = document.getElementById(outputId);\n",
              "  outputElement.innerHTML = '';\n",
              "\n",
              "  const pickedPromise = new Promise((resolve) => {\n",
              "    inputElement.addEventListener('change', (e) => {\n",
              "      resolve(e.target.files);\n",
              "    });\n",
              "  });\n",
              "\n",
              "  const cancel = document.createElement('button');\n",
              "  inputElement.parentElement.appendChild(cancel);\n",
              "  cancel.textContent = 'Cancel upload';\n",
              "  const cancelPromise = new Promise((resolve) => {\n",
              "    cancel.onclick = () => {\n",
              "      resolve(null);\n",
              "    };\n",
              "  });\n",
              "\n",
              "  // Wait for the user to pick the files.\n",
              "  const files = yield {\n",
              "    promise: Promise.race([pickedPromise, cancelPromise]),\n",
              "    response: {\n",
              "      action: 'starting',\n",
              "    }\n",
              "  };\n",
              "\n",
              "  cancel.remove();\n",
              "\n",
              "  // Disable the input element since further picks are not allowed.\n",
              "  inputElement.disabled = true;\n",
              "\n",
              "  if (!files) {\n",
              "    return {\n",
              "      response: {\n",
              "        action: 'complete',\n",
              "      }\n",
              "    };\n",
              "  }\n",
              "\n",
              "  for (const file of files) {\n",
              "    const li = document.createElement('li');\n",
              "    li.append(span(file.name, {fontWeight: 'bold'}));\n",
              "    li.append(span(\n",
              "        `(${file.type || 'n/a'}) - ${file.size} bytes, ` +\n",
              "        `last modified: ${\n",
              "            file.lastModifiedDate ? file.lastModifiedDate.toLocaleDateString() :\n",
              "                                    'n/a'} - `));\n",
              "    const percent = span('0% done');\n",
              "    li.appendChild(percent);\n",
              "\n",
              "    outputElement.appendChild(li);\n",
              "\n",
              "    const fileDataPromise = new Promise((resolve) => {\n",
              "      const reader = new FileReader();\n",
              "      reader.onload = (e) => {\n",
              "        resolve(e.target.result);\n",
              "      };\n",
              "      reader.readAsArrayBuffer(file);\n",
              "    });\n",
              "    // Wait for the data to be ready.\n",
              "    let fileData = yield {\n",
              "      promise: fileDataPromise,\n",
              "      response: {\n",
              "        action: 'continue',\n",
              "      }\n",
              "    };\n",
              "\n",
              "    // Use a chunked sending to avoid message size limits. See b/62115660.\n",
              "    let position = 0;\n",
              "    do {\n",
              "      const length = Math.min(fileData.byteLength - position, MAX_PAYLOAD_SIZE);\n",
              "      const chunk = new Uint8Array(fileData, position, length);\n",
              "      position += length;\n",
              "\n",
              "      const base64 = btoa(String.fromCharCode.apply(null, chunk));\n",
              "      yield {\n",
              "        response: {\n",
              "          action: 'append',\n",
              "          file: file.name,\n",
              "          data: base64,\n",
              "        },\n",
              "      };\n",
              "\n",
              "      let percentDone = fileData.byteLength === 0 ?\n",
              "          100 :\n",
              "          Math.round((position / fileData.byteLength) * 100);\n",
              "      percent.textContent = `${percentDone}% done`;\n",
              "\n",
              "    } while (position < fileData.byteLength);\n",
              "  }\n",
              "\n",
              "  // All done.\n",
              "  yield {\n",
              "    response: {\n",
              "      action: 'complete',\n",
              "    }\n",
              "  };\n",
              "}\n",
              "\n",
              "scope.google = scope.google || {};\n",
              "scope.google.colab = scope.google.colab || {};\n",
              "scope.google.colab._files = {\n",
              "  _uploadFiles,\n",
              "  _uploadFilesContinue,\n",
              "};\n",
              "})(self);\n",
              "</script> "
            ],
            "text/plain": [
              "<IPython.core.display.HTML object>"
            ]
          },
          "metadata": {},
          "output_type": "display_data"
        },
        {
          "name": "stdout",
          "output_type": "stream",
          "text": [
            "Saving Advertising.csv to Advertising.csv\n"
          ]
        }
      ],
      "source": [
        "from google.colab import files\n",
        " \n",
        " \n",
        "uploaded = files.upload()\n"
      ]
    },
    {
      "cell_type": "markdown",
      "metadata": {
        "id": "MnFZB3OEOMmo"
      },
      "source": [
        "Importing the required libraries:"
      ]
    },
    {
      "cell_type": "code",
      "execution_count": 4,
      "metadata": {
        "colab": {
          "base_uri": "https://localhost:8080/",
          "height": 423
        },
        "id": "l9ENWoncYoeu",
        "outputId": "44276ac5-030e-4843-9344-a2e0389c304c"
      },
      "outputs": [
        {
          "data": {
            "text/html": [
              "\n",
              "  <div id=\"df-31cdc606-e39a-435b-9284-e9f0f33b07c4\">\n",
              "    <div class=\"colab-df-container\">\n",
              "      <div>\n",
              "<style scoped>\n",
              "    .dataframe tbody tr th:only-of-type {\n",
              "        vertical-align: middle;\n",
              "    }\n",
              "\n",
              "    .dataframe tbody tr th {\n",
              "        vertical-align: top;\n",
              "    }\n",
              "\n",
              "    .dataframe thead th {\n",
              "        text-align: right;\n",
              "    }\n",
              "</style>\n",
              "<table border=\"1\" class=\"dataframe\">\n",
              "  <thead>\n",
              "    <tr style=\"text-align: right;\">\n",
              "      <th></th>\n",
              "      <th>TV</th>\n",
              "      <th>Radio</th>\n",
              "      <th>Newspaper</th>\n",
              "      <th>Sales</th>\n",
              "    </tr>\n",
              "  </thead>\n",
              "  <tbody>\n",
              "    <tr>\n",
              "      <th>1</th>\n",
              "      <td>230.1</td>\n",
              "      <td>37.8</td>\n",
              "      <td>69.2</td>\n",
              "      <td>22.1</td>\n",
              "    </tr>\n",
              "    <tr>\n",
              "      <th>2</th>\n",
              "      <td>44.5</td>\n",
              "      <td>39.3</td>\n",
              "      <td>45.1</td>\n",
              "      <td>10.4</td>\n",
              "    </tr>\n",
              "    <tr>\n",
              "      <th>3</th>\n",
              "      <td>17.2</td>\n",
              "      <td>45.9</td>\n",
              "      <td>69.3</td>\n",
              "      <td>9.3</td>\n",
              "    </tr>\n",
              "    <tr>\n",
              "      <th>4</th>\n",
              "      <td>151.5</td>\n",
              "      <td>41.3</td>\n",
              "      <td>58.5</td>\n",
              "      <td>18.5</td>\n",
              "    </tr>\n",
              "    <tr>\n",
              "      <th>5</th>\n",
              "      <td>180.8</td>\n",
              "      <td>10.8</td>\n",
              "      <td>58.4</td>\n",
              "      <td>12.9</td>\n",
              "    </tr>\n",
              "    <tr>\n",
              "      <th>...</th>\n",
              "      <td>...</td>\n",
              "      <td>...</td>\n",
              "      <td>...</td>\n",
              "      <td>...</td>\n",
              "    </tr>\n",
              "    <tr>\n",
              "      <th>196</th>\n",
              "      <td>38.2</td>\n",
              "      <td>3.7</td>\n",
              "      <td>13.8</td>\n",
              "      <td>7.6</td>\n",
              "    </tr>\n",
              "    <tr>\n",
              "      <th>197</th>\n",
              "      <td>94.2</td>\n",
              "      <td>4.9</td>\n",
              "      <td>8.1</td>\n",
              "      <td>9.7</td>\n",
              "    </tr>\n",
              "    <tr>\n",
              "      <th>198</th>\n",
              "      <td>177.0</td>\n",
              "      <td>9.3</td>\n",
              "      <td>6.4</td>\n",
              "      <td>12.8</td>\n",
              "    </tr>\n",
              "    <tr>\n",
              "      <th>199</th>\n",
              "      <td>283.6</td>\n",
              "      <td>42.0</td>\n",
              "      <td>66.2</td>\n",
              "      <td>25.5</td>\n",
              "    </tr>\n",
              "    <tr>\n",
              "      <th>200</th>\n",
              "      <td>232.1</td>\n",
              "      <td>8.6</td>\n",
              "      <td>8.7</td>\n",
              "      <td>13.4</td>\n",
              "    </tr>\n",
              "  </tbody>\n",
              "</table>\n",
              "<p>200 rows × 4 columns</p>\n",
              "</div>\n",
              "      <button class=\"colab-df-convert\" onclick=\"convertToInteractive('df-31cdc606-e39a-435b-9284-e9f0f33b07c4')\"\n",
              "              title=\"Convert this dataframe to an interactive table.\"\n",
              "              style=\"display:none;\">\n",
              "        \n",
              "  <svg xmlns=\"http://www.w3.org/2000/svg\" height=\"24px\"viewBox=\"0 0 24 24\"\n",
              "       width=\"24px\">\n",
              "    <path d=\"M0 0h24v24H0V0z\" fill=\"none\"/>\n",
              "    <path d=\"M18.56 5.44l.94 2.06.94-2.06 2.06-.94-2.06-.94-.94-2.06-.94 2.06-2.06.94zm-11 1L8.5 8.5l.94-2.06 2.06-.94-2.06-.94L8.5 2.5l-.94 2.06-2.06.94zm10 10l.94 2.06.94-2.06 2.06-.94-2.06-.94-.94-2.06-.94 2.06-2.06.94z\"/><path d=\"M17.41 7.96l-1.37-1.37c-.4-.4-.92-.59-1.43-.59-.52 0-1.04.2-1.43.59L10.3 9.45l-7.72 7.72c-.78.78-.78 2.05 0 2.83L4 21.41c.39.39.9.59 1.41.59.51 0 1.02-.2 1.41-.59l7.78-7.78 2.81-2.81c.8-.78.8-2.07 0-2.86zM5.41 20L4 18.59l7.72-7.72 1.47 1.35L5.41 20z\"/>\n",
              "  </svg>\n",
              "      </button>\n",
              "      \n",
              "  <style>\n",
              "    .colab-df-container {\n",
              "      display:flex;\n",
              "      flex-wrap:wrap;\n",
              "      gap: 12px;\n",
              "    }\n",
              "\n",
              "    .colab-df-convert {\n",
              "      background-color: #E8F0FE;\n",
              "      border: none;\n",
              "      border-radius: 50%;\n",
              "      cursor: pointer;\n",
              "      display: none;\n",
              "      fill: #1967D2;\n",
              "      height: 32px;\n",
              "      padding: 0 0 0 0;\n",
              "      width: 32px;\n",
              "    }\n",
              "\n",
              "    .colab-df-convert:hover {\n",
              "      background-color: #E2EBFA;\n",
              "      box-shadow: 0px 1px 2px rgba(60, 64, 67, 0.3), 0px 1px 3px 1px rgba(60, 64, 67, 0.15);\n",
              "      fill: #174EA6;\n",
              "    }\n",
              "\n",
              "    [theme=dark] .colab-df-convert {\n",
              "      background-color: #3B4455;\n",
              "      fill: #D2E3FC;\n",
              "    }\n",
              "\n",
              "    [theme=dark] .colab-df-convert:hover {\n",
              "      background-color: #434B5C;\n",
              "      box-shadow: 0px 1px 3px 1px rgba(0, 0, 0, 0.15);\n",
              "      filter: drop-shadow(0px 1px 2px rgba(0, 0, 0, 0.3));\n",
              "      fill: #FFFFFF;\n",
              "    }\n",
              "  </style>\n",
              "\n",
              "      <script>\n",
              "        const buttonEl =\n",
              "          document.querySelector('#df-31cdc606-e39a-435b-9284-e9f0f33b07c4 button.colab-df-convert');\n",
              "        buttonEl.style.display =\n",
              "          google.colab.kernel.accessAllowed ? 'block' : 'none';\n",
              "\n",
              "        async function convertToInteractive(key) {\n",
              "          const element = document.querySelector('#df-31cdc606-e39a-435b-9284-e9f0f33b07c4');\n",
              "          const dataTable =\n",
              "            await google.colab.kernel.invokeFunction('convertToInteractive',\n",
              "                                                     [key], {});\n",
              "          if (!dataTable) return;\n",
              "\n",
              "          const docLinkHtml = 'Like what you see? Visit the ' +\n",
              "            '<a target=\"_blank\" href=https://colab.research.google.com/notebooks/data_table.ipynb>data table notebook</a>'\n",
              "            + ' to learn more about interactive tables.';\n",
              "          element.innerHTML = '';\n",
              "          dataTable['output_type'] = 'display_data';\n",
              "          await google.colab.output.renderOutput(dataTable, element);\n",
              "          const docLink = document.createElement('div');\n",
              "          docLink.innerHTML = docLinkHtml;\n",
              "          element.appendChild(docLink);\n",
              "        }\n",
              "      </script>\n",
              "    </div>\n",
              "  </div>\n",
              "  "
            ],
            "text/plain": [
              "        TV  Radio  Newspaper  Sales\n",
              "1    230.1   37.8       69.2   22.1\n",
              "2     44.5   39.3       45.1   10.4\n",
              "3     17.2   45.9       69.3    9.3\n",
              "4    151.5   41.3       58.5   18.5\n",
              "5    180.8   10.8       58.4   12.9\n",
              "..     ...    ...        ...    ...\n",
              "196   38.2    3.7       13.8    7.6\n",
              "197   94.2    4.9        8.1    9.7\n",
              "198  177.0    9.3        6.4   12.8\n",
              "199  283.6   42.0       66.2   25.5\n",
              "200  232.1    8.6        8.7   13.4\n",
              "\n",
              "[200 rows x 4 columns]"
            ]
          },
          "execution_count": 4,
          "metadata": {},
          "output_type": "execute_result"
        }
      ],
      "source": [
        "import pandas as pd\n",
        "import io\n",
        " \n",
        "df1 = pd.read_csv(io.BytesIO(uploaded['Advertising.csv']) , index_col=0)\n",
        "df1"
      ]
    },
    {
      "cell_type": "markdown",
      "metadata": {
        "id": "GcBEtMC0OR-3"
      },
      "source": [
        "Exploring the dataset:"
      ]
    },
    {
      "cell_type": "code",
      "execution_count": 6,
      "metadata": {
        "colab": {
          "base_uri": "https://localhost:8080/"
        },
        "id": "SMH0xjVKZy5g",
        "outputId": "328a4c81-2565-42ef-98ea-ba0a2f7c4815"
      },
      "outputs": [
        {
          "data": {
            "text/plain": [
              "TV           0\n",
              "Radio        0\n",
              "Newspaper    0\n",
              "Sales        0\n",
              "dtype: int64"
            ]
          },
          "execution_count": 6,
          "metadata": {},
          "output_type": "execute_result"
        }
      ],
      "source": [
        "df1.isna().sum()"
      ]
    },
    {
      "cell_type": "code",
      "execution_count": 7,
      "metadata": {
        "colab": {
          "base_uri": "https://localhost:8080/",
          "height": 300
        },
        "id": "6ngKxcrQZ4SD",
        "outputId": "5f53c11c-9384-4624-eb47-9c0c69585c0d"
      },
      "outputs": [
        {
          "data": {
            "text/html": [
              "\n",
              "  <div id=\"df-1af0ed52-f496-45db-b7ec-63e03ca7d57e\">\n",
              "    <div class=\"colab-df-container\">\n",
              "      <div>\n",
              "<style scoped>\n",
              "    .dataframe tbody tr th:only-of-type {\n",
              "        vertical-align: middle;\n",
              "    }\n",
              "\n",
              "    .dataframe tbody tr th {\n",
              "        vertical-align: top;\n",
              "    }\n",
              "\n",
              "    .dataframe thead th {\n",
              "        text-align: right;\n",
              "    }\n",
              "</style>\n",
              "<table border=\"1\" class=\"dataframe\">\n",
              "  <thead>\n",
              "    <tr style=\"text-align: right;\">\n",
              "      <th></th>\n",
              "      <th>TV</th>\n",
              "      <th>Radio</th>\n",
              "      <th>Newspaper</th>\n",
              "      <th>Sales</th>\n",
              "    </tr>\n",
              "  </thead>\n",
              "  <tbody>\n",
              "    <tr>\n",
              "      <th>count</th>\n",
              "      <td>200.000000</td>\n",
              "      <td>200.000000</td>\n",
              "      <td>200.000000</td>\n",
              "      <td>200.000000</td>\n",
              "    </tr>\n",
              "    <tr>\n",
              "      <th>mean</th>\n",
              "      <td>147.042500</td>\n",
              "      <td>23.264000</td>\n",
              "      <td>30.554000</td>\n",
              "      <td>14.022500</td>\n",
              "    </tr>\n",
              "    <tr>\n",
              "      <th>std</th>\n",
              "      <td>85.854236</td>\n",
              "      <td>14.846809</td>\n",
              "      <td>21.778621</td>\n",
              "      <td>5.217457</td>\n",
              "    </tr>\n",
              "    <tr>\n",
              "      <th>min</th>\n",
              "      <td>0.700000</td>\n",
              "      <td>0.000000</td>\n",
              "      <td>0.300000</td>\n",
              "      <td>1.600000</td>\n",
              "    </tr>\n",
              "    <tr>\n",
              "      <th>25%</th>\n",
              "      <td>74.375000</td>\n",
              "      <td>9.975000</td>\n",
              "      <td>12.750000</td>\n",
              "      <td>10.375000</td>\n",
              "    </tr>\n",
              "    <tr>\n",
              "      <th>50%</th>\n",
              "      <td>149.750000</td>\n",
              "      <td>22.900000</td>\n",
              "      <td>25.750000</td>\n",
              "      <td>12.900000</td>\n",
              "    </tr>\n",
              "    <tr>\n",
              "      <th>75%</th>\n",
              "      <td>218.825000</td>\n",
              "      <td>36.525000</td>\n",
              "      <td>45.100000</td>\n",
              "      <td>17.400000</td>\n",
              "    </tr>\n",
              "    <tr>\n",
              "      <th>max</th>\n",
              "      <td>296.400000</td>\n",
              "      <td>49.600000</td>\n",
              "      <td>114.000000</td>\n",
              "      <td>27.000000</td>\n",
              "    </tr>\n",
              "  </tbody>\n",
              "</table>\n",
              "</div>\n",
              "      <button class=\"colab-df-convert\" onclick=\"convertToInteractive('df-1af0ed52-f496-45db-b7ec-63e03ca7d57e')\"\n",
              "              title=\"Convert this dataframe to an interactive table.\"\n",
              "              style=\"display:none;\">\n",
              "        \n",
              "  <svg xmlns=\"http://www.w3.org/2000/svg\" height=\"24px\"viewBox=\"0 0 24 24\"\n",
              "       width=\"24px\">\n",
              "    <path d=\"M0 0h24v24H0V0z\" fill=\"none\"/>\n",
              "    <path d=\"M18.56 5.44l.94 2.06.94-2.06 2.06-.94-2.06-.94-.94-2.06-.94 2.06-2.06.94zm-11 1L8.5 8.5l.94-2.06 2.06-.94-2.06-.94L8.5 2.5l-.94 2.06-2.06.94zm10 10l.94 2.06.94-2.06 2.06-.94-2.06-.94-.94-2.06-.94 2.06-2.06.94z\"/><path d=\"M17.41 7.96l-1.37-1.37c-.4-.4-.92-.59-1.43-.59-.52 0-1.04.2-1.43.59L10.3 9.45l-7.72 7.72c-.78.78-.78 2.05 0 2.83L4 21.41c.39.39.9.59 1.41.59.51 0 1.02-.2 1.41-.59l7.78-7.78 2.81-2.81c.8-.78.8-2.07 0-2.86zM5.41 20L4 18.59l7.72-7.72 1.47 1.35L5.41 20z\"/>\n",
              "  </svg>\n",
              "      </button>\n",
              "      \n",
              "  <style>\n",
              "    .colab-df-container {\n",
              "      display:flex;\n",
              "      flex-wrap:wrap;\n",
              "      gap: 12px;\n",
              "    }\n",
              "\n",
              "    .colab-df-convert {\n",
              "      background-color: #E8F0FE;\n",
              "      border: none;\n",
              "      border-radius: 50%;\n",
              "      cursor: pointer;\n",
              "      display: none;\n",
              "      fill: #1967D2;\n",
              "      height: 32px;\n",
              "      padding: 0 0 0 0;\n",
              "      width: 32px;\n",
              "    }\n",
              "\n",
              "    .colab-df-convert:hover {\n",
              "      background-color: #E2EBFA;\n",
              "      box-shadow: 0px 1px 2px rgba(60, 64, 67, 0.3), 0px 1px 3px 1px rgba(60, 64, 67, 0.15);\n",
              "      fill: #174EA6;\n",
              "    }\n",
              "\n",
              "    [theme=dark] .colab-df-convert {\n",
              "      background-color: #3B4455;\n",
              "      fill: #D2E3FC;\n",
              "    }\n",
              "\n",
              "    [theme=dark] .colab-df-convert:hover {\n",
              "      background-color: #434B5C;\n",
              "      box-shadow: 0px 1px 3px 1px rgba(0, 0, 0, 0.15);\n",
              "      filter: drop-shadow(0px 1px 2px rgba(0, 0, 0, 0.3));\n",
              "      fill: #FFFFFF;\n",
              "    }\n",
              "  </style>\n",
              "\n",
              "      <script>\n",
              "        const buttonEl =\n",
              "          document.querySelector('#df-1af0ed52-f496-45db-b7ec-63e03ca7d57e button.colab-df-convert');\n",
              "        buttonEl.style.display =\n",
              "          google.colab.kernel.accessAllowed ? 'block' : 'none';\n",
              "\n",
              "        async function convertToInteractive(key) {\n",
              "          const element = document.querySelector('#df-1af0ed52-f496-45db-b7ec-63e03ca7d57e');\n",
              "          const dataTable =\n",
              "            await google.colab.kernel.invokeFunction('convertToInteractive',\n",
              "                                                     [key], {});\n",
              "          if (!dataTable) return;\n",
              "\n",
              "          const docLinkHtml = 'Like what you see? Visit the ' +\n",
              "            '<a target=\"_blank\" href=https://colab.research.google.com/notebooks/data_table.ipynb>data table notebook</a>'\n",
              "            + ' to learn more about interactive tables.';\n",
              "          element.innerHTML = '';\n",
              "          dataTable['output_type'] = 'display_data';\n",
              "          await google.colab.output.renderOutput(dataTable, element);\n",
              "          const docLink = document.createElement('div');\n",
              "          docLink.innerHTML = docLinkHtml;\n",
              "          element.appendChild(docLink);\n",
              "        }\n",
              "      </script>\n",
              "    </div>\n",
              "  </div>\n",
              "  "
            ],
            "text/plain": [
              "               TV       Radio   Newspaper       Sales\n",
              "count  200.000000  200.000000  200.000000  200.000000\n",
              "mean   147.042500   23.264000   30.554000   14.022500\n",
              "std     85.854236   14.846809   21.778621    5.217457\n",
              "min      0.700000    0.000000    0.300000    1.600000\n",
              "25%     74.375000    9.975000   12.750000   10.375000\n",
              "50%    149.750000   22.900000   25.750000   12.900000\n",
              "75%    218.825000   36.525000   45.100000   17.400000\n",
              "max    296.400000   49.600000  114.000000   27.000000"
            ]
          },
          "execution_count": 7,
          "metadata": {},
          "output_type": "execute_result"
        }
      ],
      "source": [
        "df1.describe()"
      ]
    },
    {
      "cell_type": "code",
      "execution_count": 8,
      "metadata": {
        "colab": {
          "base_uri": "https://localhost:8080/"
        },
        "id": "3miu2cKDaNVx",
        "outputId": "d6a89742-dc3a-462d-fa0b-727c1f3ce9d9"
      },
      "outputs": [
        {
          "name": "stdout",
          "output_type": "stream",
          "text": [
            "<class 'pandas.core.frame.DataFrame'>\n",
            "Int64Index: 200 entries, 1 to 200\n",
            "Data columns (total 4 columns):\n",
            " #   Column     Non-Null Count  Dtype  \n",
            "---  ------     --------------  -----  \n",
            " 0   TV         200 non-null    float64\n",
            " 1   Radio      200 non-null    float64\n",
            " 2   Newspaper  200 non-null    float64\n",
            " 3   Sales      200 non-null    float64\n",
            "dtypes: float64(4)\n",
            "memory usage: 7.8 KB\n"
          ]
        }
      ],
      "source": [
        "df1.info()"
      ]
    },
    {
      "cell_type": "markdown",
      "metadata": {
        "id": "mostTzmPOi0G"
      },
      "source": [
        "Splitting the data into training and testing sets:"
      ]
    },
    {
      "cell_type": "code",
      "execution_count": 15,
      "metadata": {
        "id": "MC2XQv0Fa6er"
      },
      "outputs": [],
      "source": [
        "X, y = df1.iloc[:, :-1].values, df1.iloc[:, [-1]].values\n",
        "# X features\n",
        "# y lables"
      ]
    },
    {
      "cell_type": "code",
      "execution_count": 161,
      "metadata": {
        "colab": {
          "base_uri": "https://localhost:8080/"
        },
        "id": "KZjlBnLtbWSR",
        "outputId": "d6e010e9-57df-4fd3-fcbb-42754a0244d5"
      },
      "outputs": [
        {
          "name": "stdout",
          "output_type": "stream",
          "text": [
            "(140, 3) (60, 3) (140, 1) (60, 1)\n"
          ]
        }
      ],
      "source": [
        "from sklearn.model_selection import train_test_split\n",
        "X_train, X_test, y_train, y_test = train_test_split(X, y, test_size=0.30 , random_state=1 )\n",
        "\n",
        "print(X_train.shape, X_test.shape, y_train.shape, y_test.shape)"
      ]
    },
    {
      "cell_type": "markdown",
      "metadata": {
        "id": "zNwVpSJXPgt6"
      },
      "source": [
        "Lets train the model:"
      ]
    },
    {
      "cell_type": "code",
      "execution_count": 162,
      "metadata": {
        "id": "TjxLuQmTb7zs"
      },
      "outputs": [],
      "source": [
        "from sklearn.linear_model import LinearRegression \n",
        "\n",
        "linreg=LinearRegression()"
      ]
    },
    {
      "cell_type": "code",
      "execution_count": 163,
      "metadata": {
        "colab": {
          "base_uri": "https://localhost:8080/"
        },
        "id": "fd96C6BMb-ml",
        "outputId": "34b27d1b-d1c7-4740-99ee-5318a72c2c59"
      },
      "outputs": [
        {
          "data": {
            "text/plain": [
              "LinearRegression()"
            ]
          },
          "execution_count": 163,
          "metadata": {},
          "output_type": "execute_result"
        }
      ],
      "source": [
        "linreg.fit(X_train,y_train)\n"
      ]
    },
    {
      "cell_type": "markdown",
      "metadata": {
        "id": "CA-6-f98PreZ"
      },
      "source": [
        "Lets make predictions:"
      ]
    },
    {
      "cell_type": "code",
      "execution_count": 164,
      "metadata": {
        "colab": {
          "base_uri": "https://localhost:8080/"
        },
        "id": "Tz4BpislcCzn",
        "outputId": "07892c90-7d29-4ee1-c056-c19545947ebe"
      },
      "outputs": [
        {
          "data": {
            "text/plain": [
              "array([[21.66318307],\n",
              "       [16.44137936],\n",
              "       [ 7.69144625],\n",
              "       [17.9163172 ],\n",
              "       [18.67047113],\n",
              "       [23.79199311],\n",
              "       [16.2825425 ],\n",
              "       [13.44138683],\n",
              "       [ 9.15294033],\n",
              "       [17.32475313],\n",
              "       [14.43922876],\n",
              "       [ 9.84019547],\n",
              "       [17.26329945],\n",
              "       [16.62853147],\n",
              "       [15.09158705],\n",
              "       [15.50173894],\n",
              "       [12.43404074],\n",
              "       [17.32591521],\n",
              "       [11.04327486],\n",
              "       [18.05652777],\n",
              "       [ 9.35309526],\n",
              "       [12.79465958],\n",
              "       [ 8.73413846],\n",
              "       [10.47225333],\n",
              "       [11.38216042],\n",
              "       [15.02658554],\n",
              "       [ 9.7406823 ],\n",
              "       [19.44676903],\n",
              "       [18.19211174],\n",
              "       [17.20178728],\n",
              "       [21.56359539],\n",
              "       [14.70484262],\n",
              "       [16.2635213 ],\n",
              "       [12.37098906],\n",
              "       [19.97059316],\n",
              "       [15.36768988],\n",
              "       [14.00399515],\n",
              "       [10.0772945 ],\n",
              "       [20.91891557],\n",
              "       [ 7.43833283],\n",
              "       [ 3.67031166],\n",
              "       [ 7.27760354],\n",
              "       [ 5.99523188],\n",
              "       [18.41497546],\n",
              "       [ 8.31868226],\n",
              "       [14.1090252 ],\n",
              "       [14.93697583],\n",
              "       [20.35882814],\n",
              "       [20.56271636],\n",
              "       [19.55380813],\n",
              "       [24.10360923],\n",
              "       [14.84985778],\n",
              "       [ 6.71474914],\n",
              "       [19.77761567],\n",
              "       [18.93996367],\n",
              "       [12.5109195 ],\n",
              "       [14.20052652],\n",
              "       [ 6.10844697],\n",
              "       [15.3695344 ],\n",
              "       [ 9.56769111]])"
            ]
          },
          "execution_count": 164,
          "metadata": {},
          "output_type": "execute_result"
        }
      ],
      "source": [
        "y_pred=linreg.predict(X_test) # let compare predictions with actual values\n",
        "y_pred"
      ]
    },
    {
      "cell_type": "code",
      "execution_count": 165,
      "metadata": {
        "colab": {
          "base_uri": "https://localhost:8080/"
        },
        "id": "wrfDD6yWcKVC",
        "outputId": "a1d9197f-e073-4df3-f23e-6f3c160df288"
      },
      "outputs": [
        {
          "data": {
            "text/plain": [
              "{'Actual': array([[23.8],\n",
              "        [16.6],\n",
              "        [ 9.5],\n",
              "        [14.8],\n",
              "        [17.6],\n",
              "        [25.5],\n",
              "        [16.9],\n",
              "        [12.9],\n",
              "        [10.5],\n",
              "        [17.1],\n",
              "        [14.5],\n",
              "        [11.3],\n",
              "        [17.4],\n",
              "        [16.7],\n",
              "        [13.4],\n",
              "        [15.9],\n",
              "        [12.9],\n",
              "        [12.8],\n",
              "        [ 9.5],\n",
              "        [18.4],\n",
              "        [10.7],\n",
              "        [12.5],\n",
              "        [ 8.5],\n",
              "        [11.5],\n",
              "        [11.9],\n",
              "        [14.9],\n",
              "        [10.1],\n",
              "        [18.9],\n",
              "        [19.6],\n",
              "        [15.9],\n",
              "        [23.2],\n",
              "        [11.9],\n",
              "        [17.3],\n",
              "        [11.7],\n",
              "        [20.2],\n",
              "        [15.5],\n",
              "        [11.5],\n",
              "        [11. ],\n",
              "        [22.3],\n",
              "        [ 7.6],\n",
              "        [ 5.3],\n",
              "        [ 8.7],\n",
              "        [ 6.7],\n",
              "        [19. ],\n",
              "        [ 5.5],\n",
              "        [14.6],\n",
              "        [14.6],\n",
              "        [21.5],\n",
              "        [22.6],\n",
              "        [19.7],\n",
              "        [25.4],\n",
              "        [15.2],\n",
              "        [ 6.6],\n",
              "        [21.2],\n",
              "        [17.4],\n",
              "        [12.6],\n",
              "        [12.2],\n",
              "        [ 7.2],\n",
              "        [13.4],\n",
              "        [ 9.6]])}"
            ]
          },
          "execution_count": 165,
          "metadata": {},
          "output_type": "execute_result"
        }
      ],
      "source": [
        "({'Actual': y_test})"
      ]
    },
    {
      "cell_type": "code",
      "execution_count": 166,
      "metadata": {
        "colab": {
          "base_uri": "https://localhost:8080/"
        },
        "id": "ozW9ocmWcM7E",
        "outputId": "34c0bdea-4a69-427d-89d7-354a42cae052"
      },
      "outputs": [
        {
          "data": {
            "text/plain": [
              "{'Predicted': array([[21.66318307],\n",
              "        [16.44137936],\n",
              "        [ 7.69144625],\n",
              "        [17.9163172 ],\n",
              "        [18.67047113],\n",
              "        [23.79199311],\n",
              "        [16.2825425 ],\n",
              "        [13.44138683],\n",
              "        [ 9.15294033],\n",
              "        [17.32475313],\n",
              "        [14.43922876],\n",
              "        [ 9.84019547],\n",
              "        [17.26329945],\n",
              "        [16.62853147],\n",
              "        [15.09158705],\n",
              "        [15.50173894],\n",
              "        [12.43404074],\n",
              "        [17.32591521],\n",
              "        [11.04327486],\n",
              "        [18.05652777],\n",
              "        [ 9.35309526],\n",
              "        [12.79465958],\n",
              "        [ 8.73413846],\n",
              "        [10.47225333],\n",
              "        [11.38216042],\n",
              "        [15.02658554],\n",
              "        [ 9.7406823 ],\n",
              "        [19.44676903],\n",
              "        [18.19211174],\n",
              "        [17.20178728],\n",
              "        [21.56359539],\n",
              "        [14.70484262],\n",
              "        [16.2635213 ],\n",
              "        [12.37098906],\n",
              "        [19.97059316],\n",
              "        [15.36768988],\n",
              "        [14.00399515],\n",
              "        [10.0772945 ],\n",
              "        [20.91891557],\n",
              "        [ 7.43833283],\n",
              "        [ 3.67031166],\n",
              "        [ 7.27760354],\n",
              "        [ 5.99523188],\n",
              "        [18.41497546],\n",
              "        [ 8.31868226],\n",
              "        [14.1090252 ],\n",
              "        [14.93697583],\n",
              "        [20.35882814],\n",
              "        [20.56271636],\n",
              "        [19.55380813],\n",
              "        [24.10360923],\n",
              "        [14.84985778],\n",
              "        [ 6.71474914],\n",
              "        [19.77761567],\n",
              "        [18.93996367],\n",
              "        [12.5109195 ],\n",
              "        [14.20052652],\n",
              "        [ 6.10844697],\n",
              "        [15.3695344 ],\n",
              "        [ 9.56769111]])}"
            ]
          },
          "execution_count": 166,
          "metadata": {},
          "output_type": "execute_result"
        }
      ],
      "source": [
        "({'Predicted': y_pred})"
      ]
    },
    {
      "cell_type": "code",
      "execution_count": 167,
      "metadata": {
        "colab": {
          "base_uri": "https://localhost:8080/"
        },
        "id": "uy657dlwcbUy",
        "outputId": "c2d25132-c875-4231-a836-1922c19d211d"
      },
      "outputs": [
        {
          "data": {
            "text/plain": [
              "[array([[21.66],\n",
              "        [16.44],\n",
              "        [ 7.69],\n",
              "        [17.92],\n",
              "        [18.67],\n",
              "        [23.79],\n",
              "        [16.28],\n",
              "        [13.44],\n",
              "        [ 9.15],\n",
              "        [17.32],\n",
              "        [14.44],\n",
              "        [ 9.84],\n",
              "        [17.26],\n",
              "        [16.63],\n",
              "        [15.09],\n",
              "        [15.5 ],\n",
              "        [12.43],\n",
              "        [17.33],\n",
              "        [11.04],\n",
              "        [18.06],\n",
              "        [ 9.35],\n",
              "        [12.79],\n",
              "        [ 8.73],\n",
              "        [10.47],\n",
              "        [11.38],\n",
              "        [15.03],\n",
              "        [ 9.74],\n",
              "        [19.45],\n",
              "        [18.19],\n",
              "        [17.2 ],\n",
              "        [21.56],\n",
              "        [14.7 ],\n",
              "        [16.26],\n",
              "        [12.37],\n",
              "        [19.97],\n",
              "        [15.37],\n",
              "        [14.  ],\n",
              "        [10.08],\n",
              "        [20.92],\n",
              "        [ 7.44],\n",
              "        [ 3.67],\n",
              "        [ 7.28],\n",
              "        [ 6.  ],\n",
              "        [18.41],\n",
              "        [ 8.32],\n",
              "        [14.11],\n",
              "        [14.94],\n",
              "        [20.36],\n",
              "        [20.56],\n",
              "        [19.55],\n",
              "        [24.1 ],\n",
              "        [14.85],\n",
              "        [ 6.71],\n",
              "        [19.78],\n",
              "        [18.94],\n",
              "        [12.51],\n",
              "        [14.2 ],\n",
              "        [ 6.11],\n",
              "        [15.37],\n",
              "        [ 9.57]])]"
            ]
          },
          "execution_count": 167,
          "metadata": {},
          "output_type": "execute_result"
        }
      ],
      "source": [
        "import math\n",
        "import numpy as np        \n",
        "rounded = [np.round(y_pred,2)] # rounding the predictions with 2 s.f \n",
        "rounded"
      ]
    },
    {
      "cell_type": "markdown",
      "metadata": {
        "id": "Uvq9b2NuQopC"
      },
      "source": [
        "Now lets evalute the model perfomance using some metrics:"
      ]
    },
    {
      "cell_type": "code",
      "execution_count": 168,
      "metadata": {
        "colab": {
          "base_uri": "https://localhost:8080/"
        },
        "id": "6Ajwwn5Kcjfu",
        "outputId": "7a980f3e-459b-4328-a9ce-1f21fd7a66a9"
      },
      "outputs": [
        {
          "name": "stdout",
          "output_type": "stream",
          "text": [
            " R2 score of linear regression:  0.9224605706201434\n"
          ]
        }
      ],
      "source": [
        "from sklearn.metrics import r2_score \n",
        "\n",
        "# R2(coefficient of determination) regression score function.\n",
        "\n",
        "# R-squared measures the strength of the relationship between your model and the dependent variable on a convenient 0 – 100% scale\n",
        "\n",
        "print(\" R2 score of linear regression: \", r2_score(y_test, y_pred))"
      ]
    },
    {
      "cell_type": "code",
      "execution_count": 169,
      "metadata": {
        "colab": {
          "base_uri": "https://localhost:8080/"
        },
        "id": "hHvDQfZYerha",
        "outputId": "e821142b-e5b1-4ad0-e2a3-d4ce7ac8e196"
      },
      "outputs": [
        {
          "name": "stdout",
          "output_type": "stream",
          "text": [
            " Mean absloute error:  1.0548328405073335\n"
          ]
        }
      ],
      "source": [
        "from sklearn.metrics import  mean_absolute_error as MAE\n",
        "\n",
        "print(\" Mean absloute error: \", MAE(y_test, y_pred))\n",
        "\n",
        "# MAE it’s defined as the average of the absolute difference between actual and predicted values"
      ]
    },
    {
      "cell_type": "code",
      "execution_count": 170,
      "metadata": {
        "id": "Q9cyhOj-d1_c"
      },
      "outputs": [],
      "source": [
        "def mean_absolute_percentage_error(y_test, y_pred): \n",
        "  y_test, y_pred = np.array(y_test), np.array(y_pred)  # MAPE as in a percentage form using a function to calculate it\n",
        "  return np.mean(np.abs((y_test - y_pred) / y_test)) * 100"
      ]
    },
    {
      "cell_type": "code",
      "execution_count": 171,
      "metadata": {
        "colab": {
          "base_uri": "https://localhost:8080/"
        },
        "id": "fDQ5yrlNd5IE",
        "outputId": "5574c45f-ac13-4006-f6b6-b0490dc7e4e9"
      },
      "outputs": [
        {
          "data": {
            "text/plain": [
              "8.545502795467288"
            ]
          },
          "execution_count": 171,
          "metadata": {},
          "output_type": "execute_result"
        }
      ],
      "source": [
        "mean_absolute_percentage_error(y_test, y_pred)"
      ]
    },
    {
      "cell_type": "code",
      "execution_count": 172,
      "metadata": {
        "colab": {
          "base_uri": "https://localhost:8080/"
        },
        "id": "G-gaEz28fqHT",
        "outputId": "099eaaa7-7010-4e59-899a-87d8f84a0f5b"
      },
      "outputs": [
        {
          "data": {
            "text/plain": [
              "8.545502795467288"
            ]
          },
          "execution_count": 172,
          "metadata": {},
          "output_type": "execute_result"
        }
      ],
      "source": [
        "from sklearn.metrics import mean_absolute_percentage_error as MAPE\n",
        "\n",
        "MAPE(y_test, y_pred)*100   # MAPE in a percentage form using sklearn\n",
        "\n"
      ]
    },
    {
      "cell_type": "code",
      "execution_count": 173,
      "metadata": {
        "colab": {
          "base_uri": "https://localhost:8080/"
        },
        "id": "bFOgXTBVgacp",
        "outputId": "d4adbe82-db3f-4b35-b20c-df60a1f910b3"
      },
      "outputs": [
        {
          "data": {
            "text/plain": [
              "1.9289249074665753"
            ]
          },
          "execution_count": 173,
          "metadata": {},
          "output_type": "execute_result"
        }
      ],
      "source": [
        "from sklearn.metrics import mean_squared_error\n",
        "mse = mean_squared_error(y_test, y_pred)         # It assesses the average squared difference between the observed and predicted values.\n",
        "                                                 # When a model has no error, the MSE equals zero. As model error increases, its value increases.                                        \n",
        "mse                                              # The mean squared error is also known as the mean squared deviation (MSD)\n",
        "\n"
      ]
    },
    {
      "cell_type": "code",
      "execution_count": 174,
      "metadata": {
        "colab": {
          "base_uri": "https://localhost:8080/"
        },
        "id": "1T3kcbyyhS8N",
        "outputId": "1dc96f5c-bfd3-43b3-eab7-3f269f60e388"
      },
      "outputs": [
        {
          "data": {
            "text/plain": [
              "1.3888574107756977"
            ]
          },
          "execution_count": 174,
          "metadata": {},
          "output_type": "execute_result"
        }
      ],
      "source": [
        "from math import sqrt\n",
        "rmse = sqrt(mse)        # is the standard deviation of the residuals (prediction errors). \n",
        "                        # Residuals are a measure of how far from the regression line data points are;\n",
        "rmse                    # RMSE is a measure of how spread out these residuals are. \n",
        "                        # In other words, it tells you how concentrated the data is around the line of best fit.\n"
      ]
    },
    {
      "cell_type": "markdown",
      "metadata": {
        "id": "zDpykYnKXbFB"
      },
      "source": [
        " Plotting a line to visualize the predicted values vs the true value:"
      ]
    },
    {
      "cell_type": "code",
      "execution_count": 175,
      "metadata": {
        "colab": {
          "base_uri": "https://localhost:8080/",
          "height": 611
        },
        "id": "GNqjP8_Dhpbm",
        "outputId": "f588b051-baf2-430f-d637-7b0eedb7fa6a"
      },
      "outputs": [
        {
          "data": {
            "image/png": "[encoded data removed]",
            "text/plain": [
              "<Figure size 720x720 with 1 Axes>"
            ]
          },
          "metadata": {
            "needs_background": "light"
          },
          "output_type": "display_data"
        }
      ],
      "source": [
        "import matplotlib.pyplot as plt\n",
        "\n",
        "plt.figure(figsize=(10,10))                                                                                               \n",
        "plt.scatter(y_test, y_pred ,c='crimson') # more explanation about the graph below it\n",
        "p1 = max(max(y_pred), max(y_test))\n",
        "p2 = min(min(y_pred), min(y_test))\n",
        "plt.plot([p1, p2], [p1, p2], 'b-')\n",
        "plt.xlabel('True Values', fontsize=15)\n",
        "plt.ylabel('Predictions', fontsize=15)\n",
        "plt.axis('equal')\n",
        "plt.show()\n"
      ]
    },
    {
      "cell_type": "markdown",
      "metadata": {
        "id": "BN8sqGHyXmrO"
      },
      "source": [
        "From the plot we can see that the closer the points are to the line, the more accurate the model is. It can also be used to understand if the model is under or over predicting. If points are above the blue line, the model is over predicting while if the points are below the blue line, the model is under predicting."
      ]
    }
  ],
  "metadata": {
    "colab": {
      "provenance": []
    },
    "kernelspec": {
      "display_name": "Python 3",
      "name": "python3"
    },
    "language_info": {
      "name": "python"
    }
  },
  "nbformat": 4,
  "nbformat_minor": 0
}
